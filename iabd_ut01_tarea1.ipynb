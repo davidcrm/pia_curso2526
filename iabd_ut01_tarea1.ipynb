{
  "nbformat": 4,
  "nbformat_minor": 0,
  "metadata": {
    "colab": {
      "provenance": []
    },
    "kernelspec": {
      "name": "python3",
      "display_name": "Python 3"
    },
    "language_info": {
      "name": "python"
    }
  },
  "cells": [
    {
      "cell_type": "markdown",
      "source": [
        "# David Carreño Macías"
      ],
      "metadata": {
        "id": "eDPXApLdvNBI"
      }
    },
    {
      "cell_type": "markdown",
      "source": [
        "(1,0 puntos) En una nueva celda de código, crea una lista de nombre tenistas con los siguientes\n",
        "elementos: Novak Djokovic, Rafael Nadal, Roger Federer, Pete Sampras, Roy Emerson. Crea otra lista de nombre grand_slams con los siguientes elementos: 24, 22, 20, 14, 12.\n",
        "Imprime por pantalla las dos listas.\n"
      ],
      "metadata": {
        "id": "7d7FnWWNzsNw"
      }
    },
    {
      "cell_type": "code",
      "source": [
        "tenistas = [\"Novak Djokovic\", \"Rafael Nadal\", \"Roger Federer\", \"Pete Sampras\", \"Roy Emerson\"]\n",
        "grand_slams = [24, 22, 20, 14, 12]\n"
      ],
      "metadata": {
        "colab": {
          "base_uri": "https://localhost:8080/"
        },
        "id": "oWcDdBLXvVQX",
        "outputId": "536ab095-ba19-467d-9b19-6ba287fb9547"
      },
      "execution_count": 2,
      "outputs": [
        {
          "output_type": "stream",
          "name": "stdout",
          "text": [
            "{'Novak Djokovic': 24, 'Rafael Nadal': 22, 'Roger Federer': 20, 'Pete Sampras': 14, 'Roy Emerson': 12}\n"
          ]
        }
      ]
    },
    {
      "cell_type": "markdown",
      "source": [
        "(1,0 puntos) En una nueva celda de código, crea un diccionario de nombre dic donde la clave de\n",
        "cada elemento sea el nombre de un tenista y su valor el número de Grand Slams ganados.\n",
        "Imprime por pantalla el diccionario."
      ],
      "metadata": {
        "id": "qf0PVxk2zyaY"
      }
    },
    {
      "cell_type": "code",
      "source": [
        "dic = dict(zip(tenistas, grand_slams))\n",
        "print(dic)"
      ],
      "metadata": {
        "colab": {
          "base_uri": "https://localhost:8080/"
        },
        "id": "B2O8Ny96wLjx",
        "outputId": "7c30b4a2-2de3-44b9-b3df-483a268d552a"
      },
      "execution_count": 3,
      "outputs": [
        {
          "output_type": "stream",
          "name": "stdout",
          "text": [
            "{'Novak Djokovic': 24, 'Rafael Nadal': 22, 'Roger Federer': 20, 'Pete Sampras': 14, 'Roy Emerson': 12}\n"
          ]
        }
      ]
    },
    {
      "cell_type": "markdown",
      "source": [
        "(2,0 puntos) Crea una función de nombre get_tenistas que reciba como parámetro el diccionario\n",
        "dic y muestre los datos del diccionario en la forma Nombre del jugador: X Grand Slams\n",
        "ganados. El resultado debería ser como sigue:\n",
        "Novak Djokovic: 24 Grand Slams ganados.\n",
        "Rafael Nadal: 22 Grand Slams ganados.\n",
        "…"
      ],
      "metadata": {
        "id": "X59WajScz2wo"
      }
    },
    {
      "cell_type": "code",
      "source": [
        "def get_tenistas(dic: dict) -> str:\n",
        "  for tenista, gs in dic.items():\n",
        "      print(f\"{tenista} : {gs} Grand Slams ganados.\")\n",
        "\n",
        "get_tenistas(dic=dic)"
      ],
      "metadata": {
        "colab": {
          "base_uri": "https://localhost:8080/"
        },
        "id": "TjShA2x-waQZ",
        "outputId": "05b1c674-5e91-4003-ffd3-b506a364f0c8"
      },
      "execution_count": 9,
      "outputs": [
        {
          "output_type": "stream",
          "name": "stdout",
          "text": [
            "Novak Djokovic : 24 Grand Slams ganados.\n",
            "Rafael Nadal : 22 Grand Slams ganados.\n",
            "Roger Federer : 20 Grand Slams ganados.\n",
            "Pete Sampras : 14 Grand Slams ganados.\n",
            "Roy Emerson : 12 Grand Slams ganados.\n"
          ]
        }
      ]
    },
    {
      "cell_type": "markdown",
      "source": [
        "Define la clase Pais con un \"constructor\" que inicialice los atributos nombre, capital e idioma, que serán los datos a considerar en la clase. Dentro de ella, crea los métodos\n",
        "get_nombre, get_capital y get_idioma, que devolverán el nombre del país, su capital y el idioma\n",
        "hablado, respectivamente. A continuación, crea una instancia u objeto de la clase Pais,\n",
        "asignándole los datos que desees, y haz uso de los métodos implementados para mostrar un\n",
        "mensaje con la información almacenada.\n"
      ],
      "metadata": {
        "id": "nOQCTPTuz9FY"
      }
    },
    {
      "cell_type": "code",
      "source": [
        "class Pais:\n",
        "  def __init__(self,nombre,capital, idioma):\n",
        "    self.nombre = nombre\n",
        "    self.capital  = capital\n",
        "    self.idioma = idioma\n",
        "\n",
        "\n",
        "  def get_nombre(self) -> str:\n",
        "    return self.nombre\n",
        "\n",
        "\n",
        "  def get_capital(self) -> str:\n",
        "    return self.capital\n",
        "\n",
        "\n",
        "  def get_idioma(self) -> str:\n",
        "    return self.idioma\n",
        "\n",
        "pais = Pais(\"España\",\"Madrid\", \"Español\")\n",
        "\n",
        "print(f\"El nombre del país es: {pais.get_nombre()}\")\n",
        "print(f\"Su capital es: {pais.get_capital()}\")\n",
        "print(f\"En {pais.get_nombre()} se habla {pais.get_idioma()}\")"
      ],
      "metadata": {
        "colab": {
          "base_uri": "https://localhost:8080/"
        },
        "id": "14y1OYJfxeP2",
        "outputId": "b25c758a-751b-4b7d-fa6d-b00a07b2a4c3"
      },
      "execution_count": 10,
      "outputs": [
        {
          "output_type": "stream",
          "name": "stdout",
          "text": [
            "El nombre del país es: España\n",
            "Su capital es: Madrid\n",
            "En España se habla Español\n"
          ]
        }
      ]
    }
  ]
}